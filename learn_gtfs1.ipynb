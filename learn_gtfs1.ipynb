{
  "nbformat": 4,
  "nbformat_minor": 0,
  "metadata": {
    "colab": {
      "name": "learn_gtfs1.ipynb",
      "provenance": [],
      "authorship_tag": "ABX9TyNi/H641Mx2lvbhIT95UmJI",
      "include_colab_link": true
    },
    "kernelspec": {
      "name": "python3",
      "display_name": "Python 3"
    },
    "accelerator": "GPU"
  },
  "cells": [
    {
      "cell_type": "markdown",
      "metadata": {
        "id": "view-in-github",
        "colab_type": "text"
      },
      "source": [
        "<a href=\"https://colab.research.google.com/github/ManaviSh/transitfeed/blob/master/learn_gtfs1.ipynb\" target=\"_parent\"><img src=\"https://colab.research.google.com/assets/colab-badge.svg\" alt=\"Open In Colab\"/></a>"
      ]
    },
    {
      "cell_type": "code",
      "metadata": {
        "id": "Ke3q4bJw9D4D",
        "colab_type": "code",
        "outputId": "be9dc0a0-8d53-4ad3-e558-2ce23f328f2c",
        "colab": {
          "base_uri": "https://localhost:8080/",
          "height": 170
        }
      },
      "source": [
        "import requests\n",
        "import shutil\n",
        "import os\n",
        "import zipfile\n",
        "\n",
        "req = requests.get('http://www.bkk.hu/gtfs/budapest_gtfs.zip', stream=True)\n",
        "with open('budapest_gtfs.zip', 'wb') as file:\n",
        "    shutil.copyfileobj(req.raw, file)\n",
        "    \n",
        "if not os.path.exists('./data'):\n",
        "    os.mkdir('./data')\n",
        "    \n",
        "with zipfile.ZipFile('budapest_gtfs.zip', 'r') as file:\n",
        "    file.extractall('./data')\n",
        "\n",
        "os.listdir('./data')"
      ],
      "execution_count": 0,
      "outputs": [
        {
          "output_type": "execute_result",
          "data": {
            "text/plain": [
              "['feed_info.txt',\n",
              " 'routes.txt',\n",
              " 'shapes.txt',\n",
              " 'calendar_dates.txt',\n",
              " 'stops.txt',\n",
              " 'stop_times.txt',\n",
              " 'trips.txt',\n",
              " 'pathways.txt',\n",
              " 'agency.txt']"
            ]
          },
          "metadata": {
            "tags": []
          },
          "execution_count": 1
        }
      ]
    },
    {
      "cell_type": "code",
      "metadata": {
        "id": "5jWcG_WM9Sve",
        "colab_type": "code",
        "outputId": "db9a8cec-22fa-4e0c-b0ad-96716fa6f6e8",
        "colab": {
          "base_uri": "https://localhost:8080/",
          "height": 309
        }
      },
      "source": [
        "import pandas as pd\n",
        "\n",
        "trips = pd.read_csv('data/trips.txt', low_memory=False)\n",
        "shapes = pd.read_csv('data/shapes.txt', low_memory=False)\n",
        "trips.head()"
      ],
      "execution_count": 0,
      "outputs": [
        {
          "output_type": "execute_result",
          "data": {
            "text/html": [
              "<div>\n",
              "<style scoped>\n",
              "    .dataframe tbody tr th:only-of-type {\n",
              "        vertical-align: middle;\n",
              "    }\n",
              "\n",
              "    .dataframe tbody tr th {\n",
              "        vertical-align: top;\n",
              "    }\n",
              "\n",
              "    .dataframe thead th {\n",
              "        text-align: right;\n",
              "    }\n",
              "</style>\n",
              "<table border=\"1\" class=\"dataframe\">\n",
              "  <thead>\n",
              "    <tr style=\"text-align: right;\">\n",
              "      <th></th>\n",
              "      <th>route_id</th>\n",
              "      <th>trip_id</th>\n",
              "      <th>service_id</th>\n",
              "      <th>trip_headsign</th>\n",
              "      <th>direction_id</th>\n",
              "      <th>block_id</th>\n",
              "      <th>shape_id</th>\n",
              "      <th>wheelchair_accessible</th>\n",
              "      <th>bikes_allowed</th>\n",
              "      <th>boarding_door</th>\n",
              "    </tr>\n",
              "  </thead>\n",
              "  <tbody>\n",
              "    <tr>\n",
              "      <th>0</th>\n",
              "      <td>5100</td>\n",
              "      <td>B4709410</td>\n",
              "      <td>B47094ASZKP-0021</td>\n",
              "      <td>Mexikói út</td>\n",
              "      <td>0</td>\n",
              "      <td>B47094ASZKP-0021_01</td>\n",
              "      <td>1110</td>\n",
              "      <td>2</td>\n",
              "      <td>2.0</td>\n",
              "      <td>NaN</td>\n",
              "    </tr>\n",
              "    <tr>\n",
              "      <th>1</th>\n",
              "      <td>5100</td>\n",
              "      <td>B47094100</td>\n",
              "      <td>B47094ASZKP-0021</td>\n",
              "      <td>Vörösmarty tér</td>\n",
              "      <td>1</td>\n",
              "      <td>B47094ASZKP-0021_02</td>\n",
              "      <td>1109</td>\n",
              "      <td>2</td>\n",
              "      <td>2.0</td>\n",
              "      <td>NaN</td>\n",
              "    </tr>\n",
              "    <tr>\n",
              "      <th>2</th>\n",
              "      <td>5100</td>\n",
              "      <td>B47094101</td>\n",
              "      <td>B47094ASZKP-0021</td>\n",
              "      <td>Mexikói út</td>\n",
              "      <td>0</td>\n",
              "      <td>B47094ASZKP-0021_02</td>\n",
              "      <td>1110</td>\n",
              "      <td>2</td>\n",
              "      <td>2.0</td>\n",
              "      <td>NaN</td>\n",
              "    </tr>\n",
              "    <tr>\n",
              "      <th>3</th>\n",
              "      <td>5100</td>\n",
              "      <td>B47094102</td>\n",
              "      <td>B47094ASZKP-0021</td>\n",
              "      <td>Vörösmarty tér</td>\n",
              "      <td>1</td>\n",
              "      <td>B47094ASZKP-0021_02</td>\n",
              "      <td>1109</td>\n",
              "      <td>2</td>\n",
              "      <td>2.0</td>\n",
              "      <td>NaN</td>\n",
              "    </tr>\n",
              "    <tr>\n",
              "      <th>4</th>\n",
              "      <td>5100</td>\n",
              "      <td>B47094103</td>\n",
              "      <td>B47094ASZKP-0021</td>\n",
              "      <td>Mexikói út</td>\n",
              "      <td>0</td>\n",
              "      <td>B47094ASZKP-0021_02</td>\n",
              "      <td>1110</td>\n",
              "      <td>2</td>\n",
              "      <td>2.0</td>\n",
              "      <td>NaN</td>\n",
              "    </tr>\n",
              "  </tbody>\n",
              "</table>\n",
              "</div>"
            ],
            "text/plain": [
              "  route_id    trip_id  ... bikes_allowed boarding_door\n",
              "0     5100   B4709410  ...           2.0           NaN\n",
              "1     5100  B47094100  ...           2.0           NaN\n",
              "2     5100  B47094101  ...           2.0           NaN\n",
              "3     5100  B47094102  ...           2.0           NaN\n",
              "4     5100  B47094103  ...           2.0           NaN\n",
              "\n",
              "[5 rows x 10 columns]"
            ]
          },
          "metadata": {
            "tags": []
          },
          "execution_count": 3
        }
      ]
    },
    {
      "cell_type": "code",
      "metadata": {
        "id": "Xvo4dcNf9S-s",
        "colab_type": "code",
        "outputId": "ef555c18-e78d-44a6-9d85-4e58aefa401a",
        "colab": {
          "base_uri": "https://localhost:8080/",
          "height": 204
        }
      },
      "source": [
        "num_trips_by_shape = trips.groupby('shape_id').aggregate({'route_id': 'count'}).reset_index()\n",
        "num_trips_by_shape.rename({'route_id': 'trip_count'}, axis='columns', inplace=True)\n",
        "\n",
        "shapes_with_nums = shapes.merge(num_trips_by_shape, on='shape_id')\n",
        "shapes_with_nums.head()"
      ],
      "execution_count": 0,
      "outputs": [
        {
          "output_type": "execute_result",
          "data": {
            "text/html": [
              "<div>\n",
              "<style scoped>\n",
              "    .dataframe tbody tr th:only-of-type {\n",
              "        vertical-align: middle;\n",
              "    }\n",
              "\n",
              "    .dataframe tbody tr th {\n",
              "        vertical-align: top;\n",
              "    }\n",
              "\n",
              "    .dataframe thead th {\n",
              "        text-align: right;\n",
              "    }\n",
              "</style>\n",
              "<table border=\"1\" class=\"dataframe\">\n",
              "  <thead>\n",
              "    <tr style=\"text-align: right;\">\n",
              "      <th></th>\n",
              "      <th>shape_id</th>\n",
              "      <th>shape_pt_sequence</th>\n",
              "      <th>shape_pt_lat</th>\n",
              "      <th>shape_pt_lon</th>\n",
              "      <th>shape_dist_traveled</th>\n",
              "      <th>trip_count</th>\n",
              "    </tr>\n",
              "  </thead>\n",
              "  <tbody>\n",
              "    <tr>\n",
              "      <th>0</th>\n",
              "      <td>0285</td>\n",
              "      <td>100001</td>\n",
              "      <td>47.519648</td>\n",
              "      <td>19.148326</td>\n",
              "      <td>0.0</td>\n",
              "      <td>6</td>\n",
              "    </tr>\n",
              "    <tr>\n",
              "      <th>1</th>\n",
              "      <td>0285</td>\n",
              "      <td>100002</td>\n",
              "      <td>47.519666</td>\n",
              "      <td>19.148313</td>\n",
              "      <td>2.0</td>\n",
              "      <td>6</td>\n",
              "    </tr>\n",
              "    <tr>\n",
              "      <th>2</th>\n",
              "      <td>0285</td>\n",
              "      <td>100003</td>\n",
              "      <td>47.519839</td>\n",
              "      <td>19.148638</td>\n",
              "      <td>31.0</td>\n",
              "      <td>6</td>\n",
              "    </tr>\n",
              "    <tr>\n",
              "      <th>3</th>\n",
              "      <td>0285</td>\n",
              "      <td>100004</td>\n",
              "      <td>47.520584</td>\n",
              "      <td>19.150246</td>\n",
              "      <td>178.0</td>\n",
              "      <td>6</td>\n",
              "    </tr>\n",
              "    <tr>\n",
              "      <th>4</th>\n",
              "      <td>0285</td>\n",
              "      <td>100005</td>\n",
              "      <td>47.520674</td>\n",
              "      <td>19.150432</td>\n",
              "      <td>195.0</td>\n",
              "      <td>6</td>\n",
              "    </tr>\n",
              "  </tbody>\n",
              "</table>\n",
              "</div>"
            ],
            "text/plain": [
              "  shape_id  shape_pt_sequence  ...  shape_dist_traveled  trip_count\n",
              "0     0285             100001  ...                  0.0           6\n",
              "1     0285             100002  ...                  2.0           6\n",
              "2     0285             100003  ...                 31.0           6\n",
              "3     0285             100004  ...                178.0           6\n",
              "4     0285             100005  ...                195.0           6\n",
              "\n",
              "[5 rows x 6 columns]"
            ]
          },
          "metadata": {
            "tags": []
          },
          "execution_count": 4
        }
      ]
    },
    {
      "cell_type": "code",
      "metadata": {
        "id": "KqRtLFR8-Go9",
        "colab_type": "code",
        "outputId": "e858885f-ec24-4d5a-b698-ee5aa9b73d6d",
        "colab": {
          "base_uri": "https://localhost:8080/",
          "height": 1000
        }
      },
      "source": [
        "!pip install holoviews\n"
      ],
      "execution_count": 0,
      "outputs": [
        {
          "output_type": "stream",
          "text": [
            "Collecting holoviews\n",
            "\u001b[?25l  Downloading https://files.pythonhosted.org/packages/e5/08/001e53fa414ab5a9f2b0297501d2c82f8826c7f8e8cca84843d11005c5e5/holoviews-1.13.2-py2.py3-none-any.whl (4.2MB)\n",
            "\u001b[K     |████████████████████████████████| 4.2MB 6.8MB/s \n",
            "\u001b[?25hRequirement already satisfied: numpy>=1.0 in /usr/local/lib/python3.6/dist-packages (from holoviews) (1.18.4)\n",
            "Requirement already satisfied: param<2.0,>=1.9.3 in /usr/local/lib/python3.6/dist-packages (from holoviews) (1.9.3)\n",
            "Requirement already satisfied: pandas in /usr/local/lib/python3.6/dist-packages (from holoviews) (1.0.3)\n",
            "Collecting pyviz-comms>=0.7.3\n",
            "  Downloading https://files.pythonhosted.org/packages/d9/54/63c9354250320297b24afacdf3d381526a5a2f5430a2653c74ac72c49cc8/pyviz_comms-0.7.4-py2.py3-none-any.whl\n",
            "Collecting panel>=0.7.0\n",
            "\u001b[?25l  Downloading https://files.pythonhosted.org/packages/06/82/e44a39e480d58ae30abf40d2116d3f155bdac9a7aa4df59b5e60f43e009b/panel-0.9.5-py2.py3-none-any.whl (1.3MB)\n",
            "\u001b[K     |████████████████████████████████| 1.3MB 41.2MB/s \n",
            "\u001b[?25hRequirement already satisfied: python-dateutil>=2.6.1 in /usr/local/lib/python3.6/dist-packages (from pandas->holoviews) (2.8.1)\n",
            "Requirement already satisfied: pytz>=2017.2 in /usr/local/lib/python3.6/dist-packages (from pandas->holoviews) (2018.9)\n",
            "Requirement already satisfied: tqdm in /usr/local/lib/python3.6/dist-packages (from panel>=0.7.0->holoviews) (4.41.1)\n",
            "Requirement already satisfied: markdown in /usr/local/lib/python3.6/dist-packages (from panel>=0.7.0->holoviews) (3.2.2)\n",
            "Requirement already satisfied: pyct>=0.4.4 in /usr/local/lib/python3.6/dist-packages (from panel>=0.7.0->holoviews) (0.4.6)\n",
            "Collecting bokeh>=2.0.0\n",
            "\u001b[?25l  Downloading https://files.pythonhosted.org/packages/30/cf/9bef843880084b646cf5e6988e8f0aa081dccdf09f1617cfc6755f9a3353/bokeh-2.0.2.tar.gz (8.6MB)\n",
            "\u001b[K     |████████████████████████████████| 8.6MB 28.4MB/s \n",
            "\u001b[?25hRequirement already satisfied: six>=1.5 in /usr/local/lib/python3.6/dist-packages (from python-dateutil>=2.6.1->pandas->holoviews) (1.12.0)\n",
            "Requirement already satisfied: importlib-metadata; python_version < \"3.8\" in /usr/local/lib/python3.6/dist-packages (from markdown->panel>=0.7.0->holoviews) (1.6.0)\n",
            "Requirement already satisfied: PyYAML>=3.10 in /usr/local/lib/python3.6/dist-packages (from bokeh>=2.0.0->panel>=0.7.0->holoviews) (3.13)\n",
            "Requirement already satisfied: Jinja2>=2.7 in /usr/local/lib/python3.6/dist-packages (from bokeh>=2.0.0->panel>=0.7.0->holoviews) (2.11.2)\n",
            "Requirement already satisfied: pillow>=4.0 in /usr/local/lib/python3.6/dist-packages (from bokeh>=2.0.0->panel>=0.7.0->holoviews) (7.0.0)\n",
            "Requirement already satisfied: packaging>=16.8 in /usr/local/lib/python3.6/dist-packages (from bokeh>=2.0.0->panel>=0.7.0->holoviews) (20.4)\n",
            "Collecting tornado>=5\n",
            "\u001b[?25l  Downloading https://files.pythonhosted.org/packages/95/84/119a46d494f008969bf0c775cb2c6b3579d3c4cc1bb1b41a022aa93ee242/tornado-6.0.4.tar.gz (496kB)\n",
            "\u001b[K     |████████████████████████████████| 501kB 35.2MB/s \n",
            "\u001b[?25hCollecting typing_extensions>=3.7.4\n",
            "  Downloading https://files.pythonhosted.org/packages/0c/0e/3f026d0645d699e7320b59952146d56ad7c374e9cd72cd16e7c74e657a0f/typing_extensions-3.7.4.2-py3-none-any.whl\n",
            "Requirement already satisfied: zipp>=0.5 in /usr/local/lib/python3.6/dist-packages (from importlib-metadata; python_version < \"3.8\"->markdown->panel>=0.7.0->holoviews) (3.1.0)\n",
            "Requirement already satisfied: MarkupSafe>=0.23 in /usr/local/lib/python3.6/dist-packages (from Jinja2>=2.7->bokeh>=2.0.0->panel>=0.7.0->holoviews) (1.1.1)\n",
            "Requirement already satisfied: pyparsing>=2.0.2 in /usr/local/lib/python3.6/dist-packages (from packaging>=16.8->bokeh>=2.0.0->panel>=0.7.0->holoviews) (2.4.7)\n",
            "Building wheels for collected packages: bokeh, tornado\n",
            "  Building wheel for bokeh (setup.py) ... \u001b[?25l\u001b[?25hdone\n",
            "  Created wheel for bokeh: filename=bokeh-2.0.2-cp36-none-any.whl size=9072534 sha256=eb8708f727ec98ed2d50e2bca713efd762e2ca835fb3af64b8a3bc2c5e8d4ae4\n",
            "  Stored in directory: /root/.cache/pip/wheels/a3/5e/7d/49405a043a4714a1b66bb7a16dfe16a1f0db9217baac7c4fe3\n",
            "  Building wheel for tornado (setup.py) ... \u001b[?25l\u001b[?25hdone\n",
            "  Created wheel for tornado: filename=tornado-6.0.4-cp36-cp36m-linux_x86_64.whl size=427625 sha256=7fa3ec2ab132b7019b9fd9c4e5d426513edfa9bd6e27ab3aee5880e0454fc02b\n",
            "  Stored in directory: /root/.cache/pip/wheels/93/84/2f/409c7b2bb3afc3aa727f7ee8787975e0793f74d1165f4d0104\n",
            "Successfully built bokeh tornado\n",
            "\u001b[31mERROR: chainer 6.5.0 has requirement typing-extensions<=3.6.6, but you'll have typing-extensions 3.7.4.2 which is incompatible.\u001b[0m\n",
            "Installing collected packages: pyviz-comms, tornado, typing-extensions, bokeh, panel, holoviews\n",
            "  Found existing installation: tornado 4.5.3\n",
            "    Uninstalling tornado-4.5.3:\n",
            "      Successfully uninstalled tornado-4.5.3\n",
            "  Found existing installation: typing-extensions 3.6.6\n",
            "    Uninstalling typing-extensions-3.6.6:\n",
            "      Successfully uninstalled typing-extensions-3.6.6\n",
            "  Found existing installation: bokeh 1.4.0\n",
            "    Uninstalling bokeh-1.4.0:\n",
            "      Successfully uninstalled bokeh-1.4.0\n",
            "Successfully installed bokeh-2.0.2 holoviews-1.13.2 panel-0.9.5 pyviz-comms-0.7.4 tornado-6.0.4 typing-extensions-3.7.4.2\n"
          ],
          "name": "stdout"
        },
        {
          "output_type": "display_data",
          "data": {
            "application/vnd.colab-display-data+json": {
              "pip_warning": {
                "packages": [
                  "bokeh",
                  "tornado"
                ]
              }
            }
          },
          "metadata": {
            "tags": []
          }
        }
      ]
    },
    {
      "cell_type": "code",
      "metadata": {
        "id": "XhQduSSk9ndX",
        "colab_type": "code",
        "colab": {}
      },
      "source": [
        "from datashader.utils import lnglat_to_meters\n",
        "import numpy as np\n",
        "\n",
        "shapes_with_nums['coord_x'], shapes_with_nums['coord_y'] = \\\n",
        "    lnglat_to_meters(shapes_with_nums['shape_pt_lon'], shapes_with_nums['shape_pt_lat'])\n",
        "\n",
        "def split_df_by(df, byvar):\n",
        "    df_parts = []\n",
        "    for level, df_part in df.groupby(byvar):\n",
        "        empty = pd.DataFrame([[level if colname == byvar else np.NaN for colname in df.columns]],\n",
        "                             columns=df.columns)\n",
        "        df_parts.append(df_part.append(empty))\n",
        "    return pd.concat(df_parts) \n",
        "\n",
        "sep_shapes = split_df_by(shapes_with_nums, 'shape_id')"
      ],
      "execution_count": 0,
      "outputs": []
    },
    {
      "cell_type": "code",
      "metadata": {
        "id": "36NE7phz-EaB",
        "colab_type": "code",
        "colab": {}
      },
      "source": [
        "import bokeh.plotting as bp\n",
        "from bokeh.models.tiles import WMTSTileSource\n",
        "import datashader as ds\n",
        "import datashader.transfer_functions as tf\n",
        "from datashader.bokeh_ext import InteractiveImage\n",
        "from datashader.utils import export_image\n",
        "import colorcet as cc\n",
        "\n",
        "bp.output_notebook()\n",
        "\n",
        "x_range=(2.101e6, 2.155e6)\n",
        "y_range=(5.994e6, 6.052e6)\n",
        "\n",
        "if not os.path.exists('./img'):\n",
        "    os.mkdir('./img')"
      ],
      "execution_count": 0,
      "outputs": []
    },
    {
      "cell_type": "code",
      "metadata": {
        "id": "yQ0q_m_I-VIj",
        "colab_type": "code",
        "outputId": "d90c631e-68a0-4534-c79b-422122c930b0",
        "colab": {
          "base_uri": "https://localhost:8080/",
          "height": 510
        }
      },
      "source": [
        "p = bp.figure(tools='pan,wheel_zoom,reset',\n",
        "              plot_width=int(600),\n",
        "              plot_height=int(600),\n",
        "              x_range=x_range,\n",
        "              y_range=y_range)\n",
        "\n",
        "p.axis.visible = False\n",
        "p.xgrid.grid_line_color = None\n",
        "p.ygrid.grid_line_color = None\n",
        "\n",
        "url = \"https://cartodb-basemaps-b.global.ssl.fastly.net/dark_all/{z}/{x}/{y}.png\"\n",
        "tile_renderer = p.add_tile(WMTSTileSource(url=url))\n",
        "tile_renderer.alpha = 1\n",
        "\n",
        "def image_callback(x_range, y_range, w, h, color_fn=tf.shade):\n",
        "    cvs = ds.Canvas(plot_width=w, plot_height=h, x_range=x_range, y_range=y_range)\n",
        "    agg = cvs.line(sep_shapes, 'coord_x', 'coord_y', agg=ds.sum('trip_count'))\n",
        "    image = tf.shade(agg, cmap=cc.fire, how='eq_hist')\n",
        "    return image\n",
        "import holoviews as hv\n",
        "\n",
        "export_image(image_callback(x_range=x_range, y_range=y_range, w=2000, h=2000),\n",
        "             filename=\"BUD_schedule_fire\", background='black')\n",
        "hv.datashade(p, image_callback)"
      ],
      "execution_count": 0,
      "outputs": [
        {
          "output_type": "error",
          "ename": "ImportError",
          "evalue": "ignored",
          "traceback": [
            "\u001b[0;31m---------------------------------------------------------------------------\u001b[0m",
            "\u001b[0;31mImportError\u001b[0m                               Traceback (most recent call last)",
            "\u001b[0;32m<ipython-input-16-b00e9e95257e>\u001b[0m in \u001b[0;36m<module>\u001b[0;34m()\u001b[0m\n\u001b[1;32m     18\u001b[0m     \u001b[0mimage\u001b[0m \u001b[0;34m=\u001b[0m \u001b[0mtf\u001b[0m\u001b[0;34m.\u001b[0m\u001b[0mshade\u001b[0m\u001b[0;34m(\u001b[0m\u001b[0magg\u001b[0m\u001b[0;34m,\u001b[0m \u001b[0mcmap\u001b[0m\u001b[0;34m=\u001b[0m\u001b[0mcc\u001b[0m\u001b[0;34m.\u001b[0m\u001b[0mfire\u001b[0m\u001b[0;34m,\u001b[0m \u001b[0mhow\u001b[0m\u001b[0;34m=\u001b[0m\u001b[0;34m'eq_hist'\u001b[0m\u001b[0;34m)\u001b[0m\u001b[0;34m\u001b[0m\u001b[0;34m\u001b[0m\u001b[0m\n\u001b[1;32m     19\u001b[0m     \u001b[0;32mreturn\u001b[0m \u001b[0mimage\u001b[0m\u001b[0;34m\u001b[0m\u001b[0;34m\u001b[0m\u001b[0m\n\u001b[0;32m---> 20\u001b[0;31m \u001b[0;32mimport\u001b[0m \u001b[0mholoviews\u001b[0m \u001b[0;32mas\u001b[0m \u001b[0mhv\u001b[0m\u001b[0;34m\u001b[0m\u001b[0;34m\u001b[0m\u001b[0m\n\u001b[0m\u001b[1;32m     21\u001b[0m \u001b[0;34m\u001b[0m\u001b[0m\n\u001b[1;32m     22\u001b[0m export_image(image_callback(x_range=x_range, y_range=y_range, w=2000, h=2000),\n",
            "\u001b[0;32m/usr/local/lib/python3.6/dist-packages/holoviews/__init__.py\u001b[0m in \u001b[0;36m<module>\u001b[0;34m()\u001b[0m\n\u001b[1;32m     10\u001b[0m \u001b[0;34m\u001b[0m\u001b[0m\n\u001b[1;32m     11\u001b[0m \u001b[0;32mfrom\u001b[0m \u001b[0;34m.\u001b[0m \u001b[0;32mimport\u001b[0m \u001b[0mutil\u001b[0m                                       \u001b[0;31m# noqa (API import)\u001b[0m\u001b[0;34m\u001b[0m\u001b[0;34m\u001b[0m\u001b[0m\n\u001b[0;32m---> 12\u001b[0;31m \u001b[0;32mfrom\u001b[0m \u001b[0;34m.\u001b[0m\u001b[0mannotators\u001b[0m \u001b[0;32mimport\u001b[0m \u001b[0mannotate\u001b[0m                         \u001b[0;31m# noqa (API import)\u001b[0m\u001b[0;34m\u001b[0m\u001b[0;34m\u001b[0m\u001b[0m\n\u001b[0m\u001b[1;32m     13\u001b[0m \u001b[0;32mfrom\u001b[0m \u001b[0;34m.\u001b[0m\u001b[0mcore\u001b[0m \u001b[0;32mimport\u001b[0m \u001b[0marchive\u001b[0m\u001b[0;34m,\u001b[0m \u001b[0mconfig\u001b[0m                        \u001b[0;31m# noqa (API import)\u001b[0m\u001b[0;34m\u001b[0m\u001b[0;34m\u001b[0m\u001b[0m\n\u001b[1;32m     14\u001b[0m \u001b[0;32mfrom\u001b[0m \u001b[0;34m.\u001b[0m\u001b[0mcore\u001b[0m\u001b[0;34m.\u001b[0m\u001b[0mboundingregion\u001b[0m \u001b[0;32mimport\u001b[0m \u001b[0mBoundingBox\u001b[0m             \u001b[0;31m# noqa (API import)\u001b[0m\u001b[0;34m\u001b[0m\u001b[0;34m\u001b[0m\u001b[0m\n",
            "\u001b[0;32m/usr/local/lib/python3.6/dist-packages/holoviews/annotators.py\u001b[0m in \u001b[0;36m<module>\u001b[0;34m()\u001b[0m\n\u001b[1;32m      8\u001b[0m \u001b[0;32mimport\u001b[0m \u001b[0mparam\u001b[0m\u001b[0;34m\u001b[0m\u001b[0;34m\u001b[0m\u001b[0m\n\u001b[1;32m      9\u001b[0m \u001b[0;34m\u001b[0m\u001b[0m\n\u001b[0;32m---> 10\u001b[0;31m \u001b[0;32mfrom\u001b[0m \u001b[0mpanel\u001b[0m\u001b[0;34m.\u001b[0m\u001b[0mpane\u001b[0m \u001b[0;32mimport\u001b[0m \u001b[0mPaneBase\u001b[0m\u001b[0;34m\u001b[0m\u001b[0;34m\u001b[0m\u001b[0m\n\u001b[0m\u001b[1;32m     11\u001b[0m \u001b[0;32mfrom\u001b[0m \u001b[0mpanel\u001b[0m\u001b[0;34m.\u001b[0m\u001b[0mlayout\u001b[0m \u001b[0;32mimport\u001b[0m \u001b[0mRow\u001b[0m\u001b[0;34m,\u001b[0m \u001b[0mTabs\u001b[0m\u001b[0;34m\u001b[0m\u001b[0;34m\u001b[0m\u001b[0m\n\u001b[1;32m     12\u001b[0m \u001b[0;32mfrom\u001b[0m \u001b[0mpanel\u001b[0m\u001b[0;34m.\u001b[0m\u001b[0mutil\u001b[0m \u001b[0;32mimport\u001b[0m \u001b[0mparam_name\u001b[0m\u001b[0;34m\u001b[0m\u001b[0;34m\u001b[0m\u001b[0m\n",
            "\u001b[0;32m/usr/local/lib/python3.6/dist-packages/panel/__init__.py\u001b[0m in \u001b[0;36m<module>\u001b[0;34m()\u001b[0m\n\u001b[1;32m      3\u001b[0m \u001b[0;32mimport\u001b[0m \u001b[0mparam\u001b[0m \u001b[0;32mas\u001b[0m \u001b[0m_param\u001b[0m\u001b[0;34m\u001b[0m\u001b[0;34m\u001b[0m\u001b[0m\n\u001b[1;32m      4\u001b[0m \u001b[0;34m\u001b[0m\u001b[0m\n\u001b[0;32m----> 5\u001b[0;31m \u001b[0;32mfrom\u001b[0m \u001b[0;34m.\u001b[0m \u001b[0;32mimport\u001b[0m \u001b[0mlayout\u001b[0m \u001b[0;31m# noqa\u001b[0m\u001b[0;34m\u001b[0m\u001b[0;34m\u001b[0m\u001b[0m\n\u001b[0m\u001b[1;32m      6\u001b[0m \u001b[0;32mfrom\u001b[0m \u001b[0;34m.\u001b[0m \u001b[0;32mimport\u001b[0m \u001b[0mlinks\u001b[0m \u001b[0;31m# noqa\u001b[0m\u001b[0;34m\u001b[0m\u001b[0;34m\u001b[0m\u001b[0m\n\u001b[1;32m      7\u001b[0m \u001b[0;32mfrom\u001b[0m \u001b[0;34m.\u001b[0m \u001b[0;32mimport\u001b[0m \u001b[0mpane\u001b[0m \u001b[0;31m# noqa\u001b[0m\u001b[0;34m\u001b[0m\u001b[0;34m\u001b[0m\u001b[0m\n",
            "\u001b[0;32m/usr/local/lib/python3.6/dist-packages/panel/layout.py\u001b[0m in \u001b[0;36m<module>\u001b[0;34m()\u001b[0m\n\u001b[1;32m     22\u001b[0m \u001b[0;32mfrom\u001b[0m \u001b[0;34m.\u001b[0m\u001b[0mio\u001b[0m\u001b[0;34m.\u001b[0m\u001b[0mstate\u001b[0m \u001b[0;32mimport\u001b[0m \u001b[0mstate\u001b[0m\u001b[0;34m\u001b[0m\u001b[0;34m\u001b[0m\u001b[0m\n\u001b[1;32m     23\u001b[0m \u001b[0;32mfrom\u001b[0m \u001b[0;34m.\u001b[0m\u001b[0mutil\u001b[0m \u001b[0;32mimport\u001b[0m \u001b[0mparam_name\u001b[0m\u001b[0;34m,\u001b[0m \u001b[0mparam_reprs\u001b[0m\u001b[0;34m\u001b[0m\u001b[0;34m\u001b[0m\u001b[0m\n\u001b[0;32m---> 24\u001b[0;31m \u001b[0;32mfrom\u001b[0m \u001b[0;34m.\u001b[0m\u001b[0mviewable\u001b[0m \u001b[0;32mimport\u001b[0m \u001b[0mLayoutable\u001b[0m\u001b[0;34m,\u001b[0m \u001b[0mReactive\u001b[0m\u001b[0;34m\u001b[0m\u001b[0;34m\u001b[0m\u001b[0m\n\u001b[0m\u001b[1;32m     25\u001b[0m \u001b[0;34m\u001b[0m\u001b[0m\n\u001b[1;32m     26\u001b[0m \u001b[0m_row\u001b[0m \u001b[0;34m=\u001b[0m \u001b[0mnamedtuple\u001b[0m\u001b[0;34m(\u001b[0m\u001b[0;34m\"row\"\u001b[0m\u001b[0;34m,\u001b[0m \u001b[0;34m[\u001b[0m\u001b[0;34m\"children\"\u001b[0m\u001b[0;34m]\u001b[0m\u001b[0;34m)\u001b[0m\u001b[0;34m\u001b[0m\u001b[0;34m\u001b[0m\u001b[0m\n",
            "\u001b[0;32m/usr/local/lib/python3.6/dist-packages/panel/viewable.py\u001b[0m in \u001b[0;36m<module>\u001b[0;34m()\u001b[0m\n\u001b[1;32m     24\u001b[0m \u001b[0;34m\u001b[0m\u001b[0m\n\u001b[1;32m     25\u001b[0m \u001b[0;32mfrom\u001b[0m \u001b[0;34m.\u001b[0m\u001b[0mcallbacks\u001b[0m \u001b[0;32mimport\u001b[0m \u001b[0mPeriodicCallback\u001b[0m\u001b[0;34m\u001b[0m\u001b[0;34m\u001b[0m\u001b[0m\n\u001b[0;32m---> 26\u001b[0;31m \u001b[0;32mfrom\u001b[0m \u001b[0;34m.\u001b[0m\u001b[0mconfig\u001b[0m \u001b[0;32mimport\u001b[0m \u001b[0mconfig\u001b[0m\u001b[0;34m,\u001b[0m \u001b[0mpanel_extension\u001b[0m\u001b[0;34m\u001b[0m\u001b[0;34m\u001b[0m\u001b[0m\n\u001b[0m\u001b[1;32m     27\u001b[0m \u001b[0;32mfrom\u001b[0m \u001b[0;34m.\u001b[0m\u001b[0mio\u001b[0m\u001b[0;34m.\u001b[0m\u001b[0membed\u001b[0m \u001b[0;32mimport\u001b[0m \u001b[0membed_state\u001b[0m\u001b[0;34m\u001b[0m\u001b[0;34m\u001b[0m\u001b[0m\n\u001b[1;32m     28\u001b[0m \u001b[0;32mfrom\u001b[0m \u001b[0;34m.\u001b[0m\u001b[0mio\u001b[0m\u001b[0;34m.\u001b[0m\u001b[0mmodel\u001b[0m \u001b[0;32mimport\u001b[0m \u001b[0madd_to_doc\u001b[0m\u001b[0;34m,\u001b[0m \u001b[0mhold\u001b[0m\u001b[0;34m,\u001b[0m \u001b[0mpatch_cds_msg\u001b[0m\u001b[0;34m\u001b[0m\u001b[0;34m\u001b[0m\u001b[0m\n",
            "\u001b[0;32m/usr/local/lib/python3.6/dist-packages/panel/config.py\u001b[0m in \u001b[0;36m<module>\u001b[0;34m()\u001b[0m\n\u001b[1;32m     18\u001b[0m                          extension as _pyviz_extension)\n\u001b[1;32m     19\u001b[0m \u001b[0;34m\u001b[0m\u001b[0m\n\u001b[0;32m---> 20\u001b[0;31m \u001b[0;32mfrom\u001b[0m \u001b[0;34m.\u001b[0m\u001b[0mio\u001b[0m\u001b[0;34m.\u001b[0m\u001b[0mnotebook\u001b[0m \u001b[0;32mimport\u001b[0m \u001b[0mload_notebook\u001b[0m\u001b[0;34m\u001b[0m\u001b[0;34m\u001b[0m\u001b[0m\n\u001b[0m\u001b[1;32m     21\u001b[0m \u001b[0;32mfrom\u001b[0m \u001b[0;34m.\u001b[0m\u001b[0mio\u001b[0m\u001b[0;34m.\u001b[0m\u001b[0mstate\u001b[0m \u001b[0;32mimport\u001b[0m \u001b[0mstate\u001b[0m\u001b[0;34m\u001b[0m\u001b[0;34m\u001b[0m\u001b[0m\n\u001b[1;32m     22\u001b[0m \u001b[0;34m\u001b[0m\u001b[0m\n",
            "\u001b[0;32m/usr/local/lib/python3.6/dist-packages/panel/io/__init__.py\u001b[0m in \u001b[0;36m<module>\u001b[0;34m()\u001b[0m\n\u001b[1;32m      8\u001b[0m \u001b[0;32mfrom\u001b[0m \u001b[0;34m.\u001b[0m\u001b[0mmodel\u001b[0m \u001b[0;32mimport\u001b[0m \u001b[0madd_to_doc\u001b[0m\u001b[0;34m,\u001b[0m \u001b[0mremove_root\u001b[0m\u001b[0;34m,\u001b[0m \u001b[0mdiff\u001b[0m \u001b[0;31m# noqa\u001b[0m\u001b[0;34m\u001b[0m\u001b[0;34m\u001b[0m\u001b[0m\n\u001b[1;32m      9\u001b[0m \u001b[0;32mfrom\u001b[0m \u001b[0;34m.\u001b[0m\u001b[0mresources\u001b[0m \u001b[0;32mimport\u001b[0m \u001b[0mResources\u001b[0m \u001b[0;31m# noqa\u001b[0m\u001b[0;34m\u001b[0m\u001b[0;34m\u001b[0m\u001b[0m\n\u001b[0;32m---> 10\u001b[0;31m \u001b[0;32mfrom\u001b[0m \u001b[0;34m.\u001b[0m\u001b[0mserver\u001b[0m \u001b[0;32mimport\u001b[0m \u001b[0mget_server\u001b[0m\u001b[0;34m,\u001b[0m \u001b[0mserve\u001b[0m\u001b[0;34m,\u001b[0m \u001b[0munlocked\u001b[0m \u001b[0;31m# noqa\u001b[0m\u001b[0;34m\u001b[0m\u001b[0;34m\u001b[0m\u001b[0m\n\u001b[0m\u001b[1;32m     11\u001b[0m \u001b[0;32mfrom\u001b[0m \u001b[0;34m.\u001b[0m\u001b[0mnotebook\u001b[0m \u001b[0;32mimport\u001b[0m \u001b[0mblock_comm\u001b[0m\u001b[0;34m,\u001b[0m \u001b[0mipywidget\u001b[0m\u001b[0;34m,\u001b[0m \u001b[0mload_notebook\u001b[0m\u001b[0;34m,\u001b[0m \u001b[0mpush\u001b[0m \u001b[0;31m# noqa\u001b[0m\u001b[0;34m\u001b[0m\u001b[0;34m\u001b[0m\u001b[0m\n",
            "\u001b[0;32m/usr/local/lib/python3.6/dist-packages/panel/io/server.py\u001b[0m in \u001b[0;36m<module>\u001b[0;34m()\u001b[0m\n\u001b[1;32m     15\u001b[0m \u001b[0;34m\u001b[0m\u001b[0m\n\u001b[1;32m     16\u001b[0m \u001b[0;32mfrom\u001b[0m \u001b[0mbokeh\u001b[0m\u001b[0;34m.\u001b[0m\u001b[0mdocument\u001b[0m\u001b[0;34m.\u001b[0m\u001b[0mevents\u001b[0m \u001b[0;32mimport\u001b[0m \u001b[0mModelChangedEvent\u001b[0m\u001b[0;34m\u001b[0m\u001b[0;34m\u001b[0m\u001b[0m\n\u001b[0;32m---> 17\u001b[0;31m \u001b[0;32mfrom\u001b[0m \u001b[0mbokeh\u001b[0m\u001b[0;34m.\u001b[0m\u001b[0mserver\u001b[0m\u001b[0;34m.\u001b[0m\u001b[0mserver\u001b[0m \u001b[0;32mimport\u001b[0m \u001b[0mServer\u001b[0m\u001b[0;34m\u001b[0m\u001b[0;34m\u001b[0m\u001b[0m\n\u001b[0m\u001b[1;32m     18\u001b[0m \u001b[0;32mfrom\u001b[0m \u001b[0mtornado\u001b[0m\u001b[0;34m.\u001b[0m\u001b[0mwebsocket\u001b[0m \u001b[0;32mimport\u001b[0m \u001b[0mWebSocketHandler\u001b[0m\u001b[0;34m\u001b[0m\u001b[0;34m\u001b[0m\u001b[0m\n\u001b[1;32m     19\u001b[0m \u001b[0;32mfrom\u001b[0m \u001b[0mtornado\u001b[0m\u001b[0;34m.\u001b[0m\u001b[0mweb\u001b[0m \u001b[0;32mimport\u001b[0m \u001b[0mRequestHandler\u001b[0m\u001b[0;34m\u001b[0m\u001b[0;34m\u001b[0m\u001b[0m\n",
            "\u001b[0;32m/usr/local/lib/python3.6/dist-packages/bokeh/server/server.py\u001b[0m in \u001b[0;36m<module>\u001b[0;34m()\u001b[0m\n\u001b[1;32m     47\u001b[0m \u001b[0;32mfrom\u001b[0m \u001b[0;34m.\u001b[0m\u001b[0;34m.\u001b[0m\u001b[0mresources\u001b[0m \u001b[0;32mimport\u001b[0m \u001b[0mDEFAULT_SERVER_PORT\u001b[0m\u001b[0;34m\u001b[0m\u001b[0;34m\u001b[0m\u001b[0m\n\u001b[1;32m     48\u001b[0m \u001b[0;32mfrom\u001b[0m \u001b[0;34m.\u001b[0m\u001b[0;34m.\u001b[0m\u001b[0mutil\u001b[0m\u001b[0;34m.\u001b[0m\u001b[0moptions\u001b[0m \u001b[0;32mimport\u001b[0m \u001b[0mOptions\u001b[0m\u001b[0;34m\u001b[0m\u001b[0;34m\u001b[0m\u001b[0m\n\u001b[0;32m---> 49\u001b[0;31m \u001b[0;32mfrom\u001b[0m \u001b[0;34m.\u001b[0m\u001b[0mtornado\u001b[0m \u001b[0;32mimport\u001b[0m \u001b[0mDEFAULT_WEBSOCKET_MAX_MESSAGE_SIZE_BYTES\u001b[0m\u001b[0;34m,\u001b[0m \u001b[0mBokehTornado\u001b[0m\u001b[0;34m\u001b[0m\u001b[0;34m\u001b[0m\u001b[0m\n\u001b[0m\u001b[1;32m     50\u001b[0m \u001b[0;32mfrom\u001b[0m \u001b[0;34m.\u001b[0m\u001b[0mutil\u001b[0m \u001b[0;32mimport\u001b[0m \u001b[0mbind_sockets\u001b[0m\u001b[0;34m,\u001b[0m \u001b[0mcreate_hosts_whitelist\u001b[0m\u001b[0;34m\u001b[0m\u001b[0;34m\u001b[0m\u001b[0m\n\u001b[1;32m     51\u001b[0m \u001b[0;34m\u001b[0m\u001b[0m\n",
            "\u001b[0;32m/usr/local/lib/python3.6/dist-packages/bokeh/server/tornado.py\u001b[0m in \u001b[0;36m<module>\u001b[0;34m()\u001b[0m\n\u001b[1;32m     39\u001b[0m \u001b[0;32mfrom\u001b[0m \u001b[0;34m.\u001b[0m\u001b[0mconnection\u001b[0m \u001b[0;32mimport\u001b[0m \u001b[0mServerConnection\u001b[0m\u001b[0;34m\u001b[0m\u001b[0;34m\u001b[0m\u001b[0m\n\u001b[1;32m     40\u001b[0m \u001b[0;32mfrom\u001b[0m \u001b[0;34m.\u001b[0m\u001b[0mcontexts\u001b[0m \u001b[0;32mimport\u001b[0m \u001b[0mApplicationContext\u001b[0m\u001b[0;34m\u001b[0m\u001b[0;34m\u001b[0m\u001b[0m\n\u001b[0;32m---> 41\u001b[0;31m \u001b[0;32mfrom\u001b[0m \u001b[0;34m.\u001b[0m\u001b[0murls\u001b[0m \u001b[0;32mimport\u001b[0m \u001b[0mper_app_patterns\u001b[0m\u001b[0;34m,\u001b[0m \u001b[0mtoplevel_patterns\u001b[0m\u001b[0;34m\u001b[0m\u001b[0;34m\u001b[0m\u001b[0m\n\u001b[0m\u001b[1;32m     42\u001b[0m \u001b[0;32mfrom\u001b[0m \u001b[0;34m.\u001b[0m\u001b[0mviews\u001b[0m\u001b[0;34m.\u001b[0m\u001b[0mroot_handler\u001b[0m \u001b[0;32mimport\u001b[0m \u001b[0mRootHandler\u001b[0m\u001b[0;34m\u001b[0m\u001b[0;34m\u001b[0m\u001b[0m\n\u001b[1;32m     43\u001b[0m \u001b[0;32mfrom\u001b[0m \u001b[0;34m.\u001b[0m\u001b[0mviews\u001b[0m\u001b[0;34m.\u001b[0m\u001b[0mstatic_handler\u001b[0m \u001b[0;32mimport\u001b[0m \u001b[0mStaticHandler\u001b[0m\u001b[0;34m\u001b[0m\u001b[0;34m\u001b[0m\u001b[0m\n",
            "\u001b[0;32m/usr/local/lib/python3.6/dist-packages/bokeh/server/urls.py\u001b[0m in \u001b[0;36m<module>\u001b[0;34m()\u001b[0m\n\u001b[1;32m     54\u001b[0m \u001b[0;34m\u001b[0m\u001b[0m\n\u001b[1;32m     55\u001b[0m \u001b[0;31m# Bokeh imports\u001b[0m\u001b[0;34m\u001b[0m\u001b[0;34m\u001b[0m\u001b[0;34m\u001b[0m\u001b[0m\n\u001b[0;32m---> 56\u001b[0;31m \u001b[0;32mfrom\u001b[0m \u001b[0;34m.\u001b[0m\u001b[0;34m.\u001b[0m\u001b[0membed\u001b[0m\u001b[0;34m.\u001b[0m\u001b[0mbundle\u001b[0m \u001b[0;32mimport\u001b[0m \u001b[0mextension_dirs\u001b[0m\u001b[0;34m\u001b[0m\u001b[0;34m\u001b[0m\u001b[0m\n\u001b[0m\u001b[1;32m     57\u001b[0m \u001b[0;32mfrom\u001b[0m \u001b[0;34m.\u001b[0m\u001b[0mviews\u001b[0m\u001b[0;34m.\u001b[0m\u001b[0mautoload_js_handler\u001b[0m \u001b[0;32mimport\u001b[0m \u001b[0mAutoloadJsHandler\u001b[0m\u001b[0;34m\u001b[0m\u001b[0;34m\u001b[0m\u001b[0m\n\u001b[1;32m     58\u001b[0m \u001b[0;32mfrom\u001b[0m \u001b[0;34m.\u001b[0m\u001b[0mviews\u001b[0m\u001b[0;34m.\u001b[0m\u001b[0mdoc_handler\u001b[0m \u001b[0;32mimport\u001b[0m \u001b[0mDocHandler\u001b[0m\u001b[0;34m\u001b[0m\u001b[0;34m\u001b[0m\u001b[0m\n",
            "\u001b[0;31mImportError\u001b[0m: cannot import name 'extension_dirs'",
            "",
            "\u001b[0;31m---------------------------------------------------------------------------\u001b[0;32m\nNOTE: If your import is failing due to a missing package, you can\nmanually install dependencies using either !pip or !apt.\n\nTo view examples of installing some common dependencies, click the\n\"Open Examples\" button below.\n\u001b[0;31m---------------------------------------------------------------------------\u001b[0m\n"
          ]
        }
      ]
    },
    {
      "cell_type": "code",
      "metadata": {
        "id": "hCDsJu-q-bFB",
        "colab_type": "code",
        "colab": {}
      },
      "source": [
        ""
      ],
      "execution_count": 0,
      "outputs": []
    }
  ]
}